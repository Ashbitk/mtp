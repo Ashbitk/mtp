{
 "cells": [
  {
   "cell_type": "code",
   "execution_count": 10,
   "id": "5016507f",
   "metadata": {},
   "outputs": [
    {
     "name": "stdout",
     "output_type": "stream",
     "text": [
      "             1. open   2. high    3. low  4. close 5. volume\n",
      "2020-03-20  146.0000  147.1000  135.8600  137.3500  84866215\n",
      "2020-03-19  142.7700  150.1500  139.0000  142.7100  85922661\n",
      "2020-03-18  138.0000  146.0000  135.0200  140.4000  81593173\n",
      "2020-03-17  140.0000  147.5000  135.0000  146.5700  81059817\n",
      "2020-03-16  140.0000  149.3500  135.0000  135.4200  87905868\n",
      "...              ...       ...       ...       ...       ...\n",
      "2010-01-08   30.2800   30.8800   30.2400   30.6600  51197400\n",
      "2010-01-07   30.6300   30.7000   30.1900   30.4520  50559700\n",
      "2010-01-06   30.8800   31.0800   30.5200   30.7700  58182400\n",
      "2010-01-05   30.8500   31.1000   30.6400   30.9600  49749600\n",
      "2010-01-04   30.6200   31.1000   30.5900   30.9500  38409100\n",
      "\n",
      "[2571 rows x 5 columns]\n"
     ]
    }
   ],
   "source": [
    "import requests\n",
    "import pandas as pd\n",
    "\n",
    "# Your Alpha Vantage API key\n",
    "api_key = '071XAV96TNY921'\n",
    "\n",
    "# Define the ticker symbol\n",
    "tickerSymbol = 'MSFT'  # Microsoft\n",
    "\n",
    "# Define the API endpoint and parameters\n",
    "base_url = 'https://www.alphavantage.co/query'\n",
    "params = {\n",
    "    'function': 'TIME_SERIES_DAILY',  # Retrieve daily time series\n",
    "    'symbol': tickerSymbol,\n",
    "    'apikey': api_key,\n",
    "    'outputsize': 'full'  # Get the full-length time series\n",
    "}\n",
    "\n",
    "# Get the data from Alpha Vantage\n",
    "response = requests.get(base_url, params=params)\n",
    "data = response.json()\n",
    "\n",
    "# Convert the JSON data into a Pandas DataFrame\n",
    "tickerDf = pd.DataFrame(data['Time Series (Daily)']).T\n",
    "\n",
    "# Convert index to datetime\n",
    "tickerDf.index = pd.to_datetime(tickerDf.index)\n",
    "\n",
    "# Filter data between specific dates\n",
    "tickerDf = tickerDf[(tickerDf.index >= '2010-01-01') & (tickerDf.index <= '2020-03-20')]\n",
    "\n",
    "# Print the DataFrame\n",
    "print(tickerDf)\n"
   ]
  },
  {
   "cell_type": "markdown",
   "id": "bf2329c1",
   "metadata": {},
   "source": [
    "## Open:the stock price at the beginning of the data/month/year\n",
    "## Close:the stock price at the beginning of the data/month/year\n",
    "## High: the the highest stock price achieved that data/month/year\n",
    "## Low: the thelowest stock price achieved that data/month/year\n",
    "## Volume: How many shares were traded that day/month /year"
   ]
  },
  {
   "cell_type": "code",
   "execution_count": null,
   "id": "d2b06028",
   "metadata": {},
   "outputs": [],
   "source": []
  }
 ],
 "metadata": {
  "kernelspec": {
   "display_name": "Python 3 (ipykernel)",
   "language": "python",
   "name": "python3"
  },
  "language_info": {
   "codemirror_mode": {
    "name": "ipython",
    "version": 3
   },
   "file_extension": ".py",
   "mimetype": "text/x-python",
   "name": "python",
   "nbconvert_exporter": "python",
   "pygments_lexer": "ipython3",
   "version": "3.11.4"
  }
 },
 "nbformat": 4,
 "nbformat_minor": 5
}
