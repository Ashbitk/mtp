{
 "cells": [
  {
   "cell_type": "markdown",
   "id": "230fc5d2",
   "metadata": {},
   "source": [
    "# Basic stock trading"
   ]
  },
  {
   "cell_type": "code",
   "execution_count": 1,
   "id": "7f5d8e05",
   "metadata": {},
   "outputs": [],
   "source": [
    "import requests\n",
    "import matplotlib.pyplot as plt\n",
    "import pandas as pd\n",
    "from datetime import datetime,timedelta"
   ]
  },
  {
   "cell_type": "code",
   "execution_count": 2,
   "id": "b67377fb",
   "metadata": {},
   "outputs": [],
   "source": [
    "# Your Alpha Vantage API key\n",
    "api_key = '071XAV96TNY921'\n",
    "\n",
    "# Define the ticker symbol\n",
    "tickerSymbol = 'JBLU'  # Microsoft\n",
    "\n",
    "# Define the API endpoint and parameters\n",
    "base_url = 'https://www.alphavantage.co/query'\n",
    "params = {\n",
    "    'function': 'TIME_SERIES_DAILY',  # Retrieve daily time series\n",
    "    'symbol': tickerSymbol,\n",
    "    'apikey': api_key,\n",
    "    'outputsize': 'full'  # Get the full-length time series\n",
    "}\n",
    "\n",
    "# Get the data from Alpha Vantage\n",
    "response = requests.get(base_url, params=params)\n",
    "data = response.json()\n",
    "\n",
    "# Convert the JSON data into a Pandas DataFrame\n",
    "tickerDf = pd.DataFrame(data['Time Series (Daily)']).T\n",
    "\n",
    "# Convert index to datetime\n",
    "tickerDf.index = pd.to_datetime(tickerDf.index)\n",
    "\n",
    "# Filter data between specific dates\n",
    "tickerDf = tickerDf[(tickerDf.index >= '2019-01-01') & (tickerDf.index <= '2020-04-10')]\n"
   ]
  },
  {
   "cell_type": "code",
   "execution_count": 3,
   "id": "541c09f1",
   "metadata": {},
   "outputs": [
    {
     "data": {
      "text/html": [
       "<div>\n",
       "<style scoped>\n",
       "    .dataframe tbody tr th:only-of-type {\n",
       "        vertical-align: middle;\n",
       "    }\n",
       "\n",
       "    .dataframe tbody tr th {\n",
       "        vertical-align: top;\n",
       "    }\n",
       "\n",
       "    .dataframe thead th {\n",
       "        text-align: right;\n",
       "    }\n",
       "</style>\n",
       "<table border=\"1\" class=\"dataframe\">\n",
       "  <thead>\n",
       "    <tr style=\"text-align: right;\">\n",
       "      <th></th>\n",
       "      <th>1. open</th>\n",
       "      <th>2. high</th>\n",
       "      <th>3. low</th>\n",
       "      <th>4. close</th>\n",
       "      <th>5. volume</th>\n",
       "    </tr>\n",
       "  </thead>\n",
       "  <tbody>\n",
       "    <tr>\n",
       "      <th>2020-04-09</th>\n",
       "      <td>9.7500</td>\n",
       "      <td>10.3100</td>\n",
       "      <td>9.1400</td>\n",
       "      <td>9.5000</td>\n",
       "      <td>17219665</td>\n",
       "    </tr>\n",
       "    <tr>\n",
       "      <th>2020-04-08</th>\n",
       "      <td>9.0300</td>\n",
       "      <td>9.1500</td>\n",
       "      <td>8.7700</td>\n",
       "      <td>9.0300</td>\n",
       "      <td>12057438</td>\n",
       "    </tr>\n",
       "    <tr>\n",
       "      <th>2020-04-07</th>\n",
       "      <td>8.9600</td>\n",
       "      <td>9.4500</td>\n",
       "      <td>8.5511</td>\n",
       "      <td>8.7600</td>\n",
       "      <td>18291884</td>\n",
       "    </tr>\n",
       "    <tr>\n",
       "      <th>2020-04-06</th>\n",
       "      <td>7.8200</td>\n",
       "      <td>8.2300</td>\n",
       "      <td>7.2500</td>\n",
       "      <td>7.7300</td>\n",
       "      <td>13006342</td>\n",
       "    </tr>\n",
       "    <tr>\n",
       "      <th>2020-04-03</th>\n",
       "      <td>7.8000</td>\n",
       "      <td>7.9800</td>\n",
       "      <td>7.2200</td>\n",
       "      <td>7.4800</td>\n",
       "      <td>8196797</td>\n",
       "    </tr>\n",
       "    <tr>\n",
       "      <th>...</th>\n",
       "      <td>...</td>\n",
       "      <td>...</td>\n",
       "      <td>...</td>\n",
       "      <td>...</td>\n",
       "      <td>...</td>\n",
       "    </tr>\n",
       "    <tr>\n",
       "      <th>2019-01-08</th>\n",
       "      <td>16.8600</td>\n",
       "      <td>16.9300</td>\n",
       "      <td>16.6250</td>\n",
       "      <td>16.8500</td>\n",
       "      <td>3921922</td>\n",
       "    </tr>\n",
       "    <tr>\n",
       "      <th>2019-01-07</th>\n",
       "      <td>16.6400</td>\n",
       "      <td>16.9400</td>\n",
       "      <td>16.4000</td>\n",
       "      <td>16.6900</td>\n",
       "      <td>3188975</td>\n",
       "    </tr>\n",
       "    <tr>\n",
       "      <th>2019-01-04</th>\n",
       "      <td>16.1400</td>\n",
       "      <td>16.7800</td>\n",
       "      <td>16.0800</td>\n",
       "      <td>16.5500</td>\n",
       "      <td>4754136</td>\n",
       "    </tr>\n",
       "    <tr>\n",
       "      <th>2019-01-03</th>\n",
       "      <td>16.0100</td>\n",
       "      <td>16.0700</td>\n",
       "      <td>15.2900</td>\n",
       "      <td>15.9300</td>\n",
       "      <td>6430809</td>\n",
       "    </tr>\n",
       "    <tr>\n",
       "      <th>2019-01-02</th>\n",
       "      <td>15.8000</td>\n",
       "      <td>16.2800</td>\n",
       "      <td>15.6600</td>\n",
       "      <td>16.2000</td>\n",
       "      <td>2589417</td>\n",
       "    </tr>\n",
       "  </tbody>\n",
       "</table>\n",
       "<p>321 rows × 5 columns</p>\n",
       "</div>"
      ],
      "text/plain": [
       "            1. open  2. high   3. low 4. close 5. volume\n",
       "2020-04-09   9.7500  10.3100   9.1400   9.5000  17219665\n",
       "2020-04-08   9.0300   9.1500   8.7700   9.0300  12057438\n",
       "2020-04-07   8.9600   9.4500   8.5511   8.7600  18291884\n",
       "2020-04-06   7.8200   8.2300   7.2500   7.7300  13006342\n",
       "2020-04-03   7.8000   7.9800   7.2200   7.4800   8196797\n",
       "...             ...      ...      ...      ...       ...\n",
       "2019-01-08  16.8600  16.9300  16.6250  16.8500   3921922\n",
       "2019-01-07  16.6400  16.9400  16.4000  16.6900   3188975\n",
       "2019-01-04  16.1400  16.7800  16.0800  16.5500   4754136\n",
       "2019-01-03  16.0100  16.0700  15.2900  15.9300   6430809\n",
       "2019-01-02  15.8000  16.2800  15.6600  16.2000   2589417\n",
       "\n",
       "[321 rows x 5 columns]"
      ]
     },
     "execution_count": 3,
     "metadata": {},
     "output_type": "execute_result"
    }
   ],
   "source": [
    "tickerDf"
   ]
  },
  {
   "cell_type": "code",
   "execution_count": 4,
   "id": "56ebf385",
   "metadata": {},
   "outputs": [
    {
     "name": "stdout",
     "output_type": "stream",
     "text": [
      "2020-04-09    9.7500\n",
      "2020-04-08    9.0300\n",
      "2020-04-07    8.9600\n",
      "2020-04-06    7.8200\n",
      "2020-04-03    7.8000\n",
      "Name: 1. open, dtype: object\n"
     ]
    }
   ],
   "source": [
    "# Access the '1. open' column using bracket notation\n",
    "priceData = tickerDf['1. open']\n",
    "\n",
    "# Print the first few rows of priceData\n",
    "print(priceData.head())"
   ]
  },
  {
   "cell_type": "code",
   "execution_count": 5,
   "id": "1450a5e9",
   "metadata": {},
   "outputs": [],
   "source": [
    "priceData=priceData.asfreq(pd.infer_freq(priceData.index))"
   ]
  },
  {
   "cell_type": "code",
   "execution_count": 6,
   "id": "19ba1f01",
   "metadata": {},
   "outputs": [
    {
     "data": {
      "text/plain": [
       "2019-01-02    15.8000\n",
       "2019-01-03    16.0100\n",
       "2019-01-04    16.1400\n",
       "2019-01-05        NaN\n",
       "2019-01-06        NaN\n",
       "               ...   \n",
       "2020-04-05        NaN\n",
       "2020-04-06     7.8200\n",
       "2020-04-07     8.9600\n",
       "2020-04-08     9.0300\n",
       "2020-04-09     9.7500\n",
       "Freq: D, Name: 1. open, Length: 464, dtype: object"
      ]
     },
     "execution_count": 6,
     "metadata": {},
     "output_type": "execute_result"
    }
   ],
   "source": [
    "priceData"
   ]
  },
  {
   "cell_type": "code",
   "execution_count": 7,
   "id": "d197db79",
   "metadata": {},
   "outputs": [
    {
     "name": "stdout",
     "output_type": "stream",
     "text": [
      "143\n"
     ]
    }
   ],
   "source": [
    "print(priceData.isna().sum())  # Check for NaN values\n"
   ]
  },
  {
   "cell_type": "code",
   "execution_count": 8,
   "id": "0022d899",
   "metadata": {},
   "outputs": [],
   "source": [
    "priceData = priceData.dropna()\n"
   ]
  },
  {
   "cell_type": "code",
   "execution_count": 9,
   "id": "d0b2ab8e",
   "metadata": {},
   "outputs": [],
   "source": [
    "priceData = pd.to_numeric(priceData, errors='coerce')\n"
   ]
  },
  {
   "cell_type": "code",
   "execution_count": 10,
   "id": "af5d107d",
   "metadata": {},
   "outputs": [
    {
     "data": {
      "text/plain": [
       "Text(0.5, 1.0, 'JBLU Price Data')"
      ]
     },
     "execution_count": 10,
     "metadata": {},
     "output_type": "execute_result"
    },
    {
     "data": {
      "image/png": "[encoded data removed]",
      "text/plain": [
       "<Figure size 1000x400 with 1 Axes>"
      ]
     },
     "metadata": {},
     "output_type": "display_data"
    }
   ],
   "source": [
    "plt.figure(figsize=(10,4))\n",
    "plt.plot(priceData)\n",
    "for year in range(priceData.index[0].year, priceData.index[-1].year+1):\n",
    "    plt.axvline(datetime(year,1,1), color='k', linestyle='--', alpha=0.2)\n",
    "plt.title(\"%s Price Data\"%tickerSymbol, fontsize=20)"
   ]
  },
  {
   "cell_type": "markdown",
   "id": "c28ee4d9",
   "metadata": {},
   "source": [
    "# Basic Buying Protocol\n",
    "# -Buy if stock increasing for b consecutive days\n",
    "# Basic Selling Protocols\n",
    "# -Sell if stock decreasing for s consecutive days(and we've made a profit)"
   ]
  },
  {
   "cell_type": "code",
   "execution_count": 11,
   "id": "22e06507",
   "metadata": {},
   "outputs": [],
   "source": [
    "def get_buying_selling_days(price_data, b, s):\n",
    "    \n",
    "    #get the percent change day after day\n",
    "    pct_change = price_data.pct_change()[1:]\n",
    "    \n",
    "    #this function checks the buying condition\n",
    "    def buying_condition(sub_series):\n",
    "        return (sub_series > 0).all()\n",
    "    \n",
    "    #this function checks the selling condition\n",
    "    def selling_condition(sub_series):\n",
    "        return (sub_series < 0).all()\n",
    "    \n",
    "    #get all buying days in the data\n",
    "    buying_days = pct_change.rolling(b).apply(buying_condition)\n",
    "    \n",
    "    #get all potential selling days in the data\n",
    "    potential_selling_days = pct_change.rolling(s).apply(selling_condition)\n",
    "    \n",
    "    #return a dictionary\n",
    "    return {'buying_days': buying_days, 'potential_selling_days': potential_selling_days}"
   ]
  },
  {
   "cell_type": "code",
   "execution_count": 12,
   "id": "ebe621b1",
   "metadata": {},
   "outputs": [],
   "source": [
    "info_dict = get_buying_selling_days(priceData, 3, 3)\n"
   ]
  },
  {
   "cell_type": "code",
   "execution_count": 13,
   "id": "fe8cb17d",
   "metadata": {},
   "outputs": [],
   "source": [
    "buying_days = info_dict['buying_days']\n",
    "potential_selling_days = info_dict['potential_selling_days']"
   ]
  },
  {
   "cell_type": "code",
   "execution_count": 14,
   "id": "67e188da",
   "metadata": {},
   "outputs": [],
   "source": [
    "#create dataframe to store information\n",
    "df_stocks = pd.DataFrame(index = buying_days.index)"
   ]
  },
  {
   "cell_type": "code",
   "execution_count": 15,
   "id": "30cf21d9",
   "metadata": {},
   "outputs": [],
   "source": [
    "#populate df with buying days, possible selling days, and price\n",
    "df_stocks['buying_day'] = (buying_days == 1)\n",
    "df_stocks['potential_selling_day'] = (potential_selling_days == 1)\n",
    "df_stocks['price'] = priceData"
   ]
  },
  {
   "cell_type": "code",
   "execution_count": 16,
   "id": "202ef9b5",
   "metadata": {},
   "outputs": [],
   "source": [
    "#only keep days that are buying or possible selling days\n",
    "df_stocks = df_stocks[(df_stocks.buying_day | df_stocks.potential_selling_day)]"
   ]
  },
  {
   "cell_type": "code",
   "execution_count": 17,
   "id": "7689af35",
   "metadata": {},
   "outputs": [
    {
     "data": {
      "text/html": [
       "<div>\n",
       "<style scoped>\n",
       "    .dataframe tbody tr th:only-of-type {\n",
       "        vertical-align: middle;\n",
       "    }\n",
       "\n",
       "    .dataframe tbody tr th {\n",
       "        vertical-align: top;\n",
       "    }\n",
       "\n",
       "    .dataframe thead th {\n",
       "        text-align: right;\n",
       "    }\n",
       "</style>\n",
       "<table border=\"1\" class=\"dataframe\">\n",
       "  <thead>\n",
       "    <tr style=\"text-align: right;\">\n",
       "      <th></th>\n",
       "      <th>buying_day</th>\n",
       "      <th>potential_selling_day</th>\n",
       "      <th>price</th>\n",
       "    </tr>\n",
       "  </thead>\n",
       "  <tbody>\n",
       "    <tr>\n",
       "      <th>2019-01-07</th>\n",
       "      <td>True</td>\n",
       "      <td>False</td>\n",
       "      <td>16.64</td>\n",
       "    </tr>\n",
       "    <tr>\n",
       "      <th>2019-01-08</th>\n",
       "      <td>True</td>\n",
       "      <td>False</td>\n",
       "      <td>16.86</td>\n",
       "    </tr>\n",
       "    <tr>\n",
       "      <th>2019-01-15</th>\n",
       "      <td>True</td>\n",
       "      <td>False</td>\n",
       "      <td>17.22</td>\n",
       "    </tr>\n",
       "    <tr>\n",
       "      <th>2019-01-16</th>\n",
       "      <td>True</td>\n",
       "      <td>False</td>\n",
       "      <td>17.39</td>\n",
       "    </tr>\n",
       "    <tr>\n",
       "      <th>2019-02-21</th>\n",
       "      <td>False</td>\n",
       "      <td>True</td>\n",
       "      <td>17.55</td>\n",
       "    </tr>\n",
       "  </tbody>\n",
       "</table>\n",
       "</div>"
      ],
      "text/plain": [
       "            buying_day  potential_selling_day  price\n",
       "2019-01-07        True                  False  16.64\n",
       "2019-01-08        True                  False  16.86\n",
       "2019-01-15        True                  False  17.22\n",
       "2019-01-16        True                  False  17.39\n",
       "2019-02-21       False                   True  17.55"
      ]
     },
     "execution_count": 17,
     "metadata": {},
     "output_type": "execute_result"
    }
   ],
   "source": [
    "df_stocks.head()"
   ]
  },
  {
   "cell_type": "code",
   "execution_count": 18,
   "id": "a1219cec",
   "metadata": {},
   "outputs": [],
   "source": [
    "def check_cumulative_percent_change(price_data, buy_date, potential_sell_date):\n",
    "    \"\"\"\n",
    "    This helper function will check if the cumulative percent change\n",
    "    between a buying and potential selling day yields overall growth\n",
    "    \"\"\"\n",
    "    \n",
    "    #get the percent change day after day\n",
    "    pct_change = price_data.pct_change()[1:]\n",
    "    \n",
    "    sub_series = 1 + pct_change[buy_date + timedelta(hours=1): potential_sell_date]\n",
    "\n",
    "    return sub_series.product() > 1"
   ]
  },
  {
   "cell_type": "code",
   "execution_count": 19,
   "id": "186acc35",
   "metadata": {},
   "outputs": [],
   "source": [
    "def get_investing_result(df_stocks, starting_funds, verbose=False):\n",
    "    \n",
    "    #get a copy of price data\n",
    "    price_data = df_stocks.price\n",
    "    \n",
    "    #at start, not holding any shares\n",
    "    holding = False\n",
    "    \n",
    "    #init vars\n",
    "    current_funds = starting_funds\n",
    "    current_shares = 0\n",
    "    last_buy_date = None\n",
    "    \n",
    "    #init dict of buying and selling dates\n",
    "    events_list = []\n",
    "    \n",
    "    #for each buying day and potential selling day...\n",
    "    for date,data in df_stocks.iterrows():\n",
    "        \n",
    "        #if not currently holding shares, and this is a buying day...\n",
    "        if (not holding) and data.buying_day:\n",
    "            \n",
    "            #calculate the number of shares we can buy\n",
    "            num_shares_to_buy = int(current_funds / data.price)\n",
    "            \n",
    "            #update number of shares\n",
    "            current_shares += num_shares_to_buy\n",
    "            \n",
    "            #decrease current funds\n",
    "            current_funds -= num_shares_to_buy * data.price\n",
    "            \n",
    "            #set last buy date\n",
    "            last_buy_date = date\n",
    "            events_list.append(('b', date))\n",
    "            \n",
    "            #we are now holding shares\n",
    "            holding = True\n",
    "            \n",
    "            if verbose:\n",
    "                print('Bought %s shares at $%s on %s totaling $%s'%(num_shares_to_buy, data.price, date.date(), round(num_shares_to_buy*data.price,2)))\n",
    "        \n",
    "        #if you are holding shares, and this is a potential selling day...\n",
    "        elif holding and data.potential_selling_day:\n",
    "            \n",
    "            #check to make sure we're making a profit\n",
    "            if check_cumulative_percent_change(price_data, last_buy_date, date):\n",
    "                #add to our current funds\n",
    "                current_funds += current_shares * data.price\n",
    "                \n",
    "                if verbose:\n",
    "                    print('Sold %s shares at $%s on %s totaling $%s'%(current_shares, data.price, date.date(), round(num_shares_to_buy*data.price,2)))\n",
    "                    print('--------------------------------------')\n",
    "                    \n",
    "                #reset current shares\n",
    "                current_shares = 0\n",
    "                \n",
    "                #we are no longer holding shares\n",
    "                holding = False\n",
    "                \n",
    "                events_list.append(('s', date))\n",
    "                \n",
    "      # Access the last element using iloc[-1]\n",
    "    final_stock_price = price_data.iloc[-1]\n",
    "\n",
    "    # Print the final stock price\n",
    "    print(f\"Final stock price: {final_stock_price}\")\n",
    "\n",
    "        \n",
    "    #get the final total value of all assets (funds + stock value)\n",
    "    final_value = current_funds + final_stock_price * current_shares\n",
    "    \n",
    "    #return the percent change in value\n",
    "    return round((final_value - starting_funds) / starting_funds,2), events_list"
   ]
  },
  {
   "cell_type": "code",
   "execution_count": 20,
   "id": "39e64a9f",
   "metadata": {},
   "outputs": [
    {
     "name": "stdout",
     "output_type": "stream",
     "text": [
      "Bought 600 shares at $16.64 on 2019-01-07 totaling $9984.0\n",
      "Sold 600 shares at $17.55 on 2019-02-21 totaling $10530.0\n",
      "--------------------------------------\n",
      "Bought 626 shares at $16.84 on 2019-03-14 totaling $10541.84\n",
      "Sold 626 shares at $18.27 on 2019-05-10 totaling $11437.02\n",
      "--------------------------------------\n",
      "Bought 632 shares at $18.09 on 2019-06-06 totaling $11432.88\n",
      "Sold 632 shares at $18.46 on 2019-06-25 totaling $11666.72\n",
      "--------------------------------------\n",
      "Bought 605 shares at $19.28 on 2019-07-08 totaling $11664.4\n",
      "Final stock price: 9.75\n"
     ]
    }
   ],
   "source": [
    "percent_change, events_list = get_investing_result(df_stocks, 10000, True)"
   ]
  },
  {
   "cell_type": "code",
   "execution_count": 21,
   "id": "5fa98b13",
   "metadata": {},
   "outputs": [
    {
     "name": "stdout",
     "output_type": "stream",
     "text": [
      "-0.41\n"
     ]
    }
   ],
   "source": [
    "print(percent_change) ## it means we made a 5600$'s'"
   ]
  },
  {
   "cell_type": "code",
   "execution_count": 22,
   "id": "ab30aadc",
   "metadata": {},
   "outputs": [
    {
     "data": {
      "text/plain": [
       "(7.0, 22.0)"
      ]
     },
     "execution_count": 22,
     "metadata": {},
     "output_type": "execute_result"
    },
    {
     "data": {
      "image/png": "[encoded data removed]",
      "text/plain": [
       "<Figure size 1000x400 with 1 Axes>"
      ]
     },
     "metadata": {},
     "output_type": "display_data"
    }
   ],
   "source": [
    "plt.figure(figsize=(10,4))\n",
    "plt.plot(priceData)\n",
    "\n",
    "y_lims = (int(priceData.min()*.95), int(priceData.max()*1.05))\n",
    "shaded_y_lims = int(priceData.min()*.5), int(priceData.max()*1.5)\n",
    "\n",
    "for idx, event in enumerate(events_list):\n",
    "    color = 'red' if event[0] == 'b' else 'blue'\n",
    "    plt.axvline(event[1], color=color, linestyle='--', alpha=0.4)\n",
    "    if event[0] == 's':\n",
    "        plt.fill_betweenx(range(*shaded_y_lims), \n",
    "                          event[1], events_list[idx-1][1], color='k', alpha=0.1)\n",
    "\n",
    "plt.title(\"%s Price Data\"%tickerSymbol, fontsize=20)\n",
    "plt.ylim(*y_lims)"
   ]
  },
  {
   "cell_type": "code",
   "execution_count": null,
   "id": "975f0f10",
   "metadata": {},
   "outputs": [],
   "source": []
  },
  {
   "cell_type": "code",
   "execution_count": null,
   "id": "d672c7be",
   "metadata": {},
   "outputs": [],
   "source": []
  }
 ],
 "metadata": {
  "kernelspec": {
   "display_name": "Python 3 (ipykernel)",
   "language": "python",
   "name": "python3"
  },
  "language_info": {
   "codemirror_mode": {
    "name": "ipython",
    "version": 3
   },
   "file_extension": ".py",
   "mimetype": "text/x-python",
   "name": "python",
   "nbconvert_exporter": "python",
   "pygments_lexer": "ipython3",
   "version": "3.11.4"
  }
 },
 "nbformat": 4,
 "nbformat_minor": 5
}
